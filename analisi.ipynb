{
 "cells": [
  {
   "cell_type": "code",
   "execution_count": 1,
   "metadata": {},
   "outputs": [
    {
     "name": "stderr",
     "output_type": "stream",
     "text": [
      "c:\\Users\\Utente\\Desktop\\uni\\MAGISTRALE\\ESAMI\\laboratory1\\lab\\gammagit\\bened.py:248: SyntaxWarning: invalid escape sequence '\\c'\n",
      "  print(f'Chi-squared $\\chi^2$ = {chi_squared}')\n",
      "c:\\Users\\Utente\\Desktop\\uni\\MAGISTRALE\\ESAMI\\laboratory1\\lab\\gammagit\\bened.py:249: SyntaxWarning: invalid escape sequence '\\c'\n",
      "  print(f'Reduced chi-squared $\\chi^2_r$ = {chi_squared_reduced}')\n",
      "c:\\Users\\Utente\\Desktop\\uni\\MAGISTRALE\\ESAMI\\laboratory1\\lab\\gammagit\\bened.py:342: SyntaxWarning: invalid escape sequence '\\c'\n",
      "  print(f'Chi-squared $\\chi^2$ = {chi_squared}')\n",
      "c:\\Users\\Utente\\Desktop\\uni\\MAGISTRALE\\ESAMI\\laboratory1\\lab\\gammagit\\bened.py:343: SyntaxWarning: invalid escape sequence '\\c'\n",
      "  print(f'Reduced chi-squared $\\chi^2_r$ = {chi_squared_reduced}')\n"
     ]
    }
   ],
   "source": [
    "import uproot \n",
    "import numpy as np\n",
    "import matplotlib.pyplot as plt\n",
    "import statistics as stat\n",
    "from iminuit import Minuit\n",
    "import matplotlib.cm as cm\n",
    "from scipy.optimize import curve_fit\n",
    "import bened as ben"
   ]
  },
  {
   "cell_type": "markdown",
   "metadata": {},
   "source": [
    "# GAMMA XDVR"
   ]
  },
  {
   "cell_type": "markdown",
   "metadata": {},
   "source": [
    "## CARICAMENTO DATI DA FILE E DIVISIONE CANALI"
   ]
  },
  {
   "cell_type": "code",
   "execution_count": 2,
   "metadata": {},
   "outputs": [],
   "source": [
    "#giorno2\n",
    "americio = uproot.open('group23\\\\10min-americio-gr23\\\\RAW\\\\DataR_10min-americio-gr23.root')\n",
    "sodio = uproot.open('group23\\\\10min-sodio-gr23-SOGLIA\\\\RAW\\\\DataR_10min-sodio-gr23-SOGLIA.root')\n",
    "europio = uproot.open('group23\\\\20min-europio-gr23\\\\RAW\\\\DataR_20min-europio-gr23.root')\n",
    "back2 = uproot.open('group23\\\\30min-background-gr23\\\\RAW\\\\DataR_30min-background-gr23.root')\n",
    "#giorno3\n",
    "autunite = uproot.open('group23\\\\15min-autunite-gr23\\\\RAW\\\\DataR_15min-autunite-gr23.root')\n",
    "enea = uproot.open('group23\\\\15min-Enea-water-gr23\\\\RAW\\\\DataR_15min-Enea-water-gr23.root')\n",
    "porcini = uproot.open('group23\\\\15min-porcini-mushrooms-gr23\\\\RAW\\\\DataR_15min-porcini-mushrooms-gr23.root')\n",
    "cement = uproot.open('group23\\\\15min-portland-cement-gr23\\\\RAW\\\\DataR_15min-portland-cement-gr23.root')\n",
    "potassio = uproot.open('group23\\\\15min-potassio-gr23\\\\RAW\\\\DataR_15min-potassio-gr23.root')\n",
    "zirconio = uproot.open('group23\\\\15min-zirconium-oxide-gr23\\\\RAW\\\\DataR_15min-zirconium-oxide-gr23.root')\n",
    "back3 = uproot.open('group23\\\\15min-background-gr23-giorno3\\\\RAW\\\\DataR_15min-background-gr23.root')\n",
    "#radon\n",
    "exposed = uproot.open('group23\\\\30min-exposed-radon-gr23\\\\RAW\\\\DataR_30min-exposed-radon-gr23.root')\n",
    "unexposed =uproot.open('group23\\\\30min-non-exposed-radon-gr23\\\\RAW\\\\DataR_30min-non-exposed-radon-gr23.root')\n",
    "calibrated = uproot.open('group23\\\\30min-calibrated-radon-gr23\\\\RAW\\\\DataR_30min-calibrated-radon-gr23.root')"
   ]
  },
  {
   "cell_type": "code",
   "execution_count": 3,
   "metadata": {},
   "outputs": [
    {
     "name": "stderr",
     "output_type": "stream",
     "text": [
      "C:\\Users\\Utente\\AppData\\Local\\Temp\\ipykernel_16476\\756315752.py:1: DeprecationWarning: __array__ implementation doesn't accept a copy keyword, so passing copy=False failed. __array__ must implement 'dtype' and 'copy' keyword arguments.\n",
      "  energy_americio = np.array(americio['Data_R;3']['Energy'].array())\n",
      "C:\\Users\\Utente\\AppData\\Local\\Temp\\ipykernel_16476\\756315752.py:2: DeprecationWarning: __array__ implementation doesn't accept a copy keyword, so passing copy=False failed. __array__ must implement 'dtype' and 'copy' keyword arguments.\n",
      "  canaliAM = np.array(americio['Data_R;3']['Channel'].array())\n",
      "C:\\Users\\Utente\\AppData\\Local\\Temp\\ipykernel_16476\\756315752.py:4: DeprecationWarning: __array__ implementation doesn't accept a copy keyword, so passing copy=False failed. __array__ must implement 'dtype' and 'copy' keyword arguments.\n",
      "  energy_sodio = np.array(sodio['Data_R;6']['Energy'].array())\n",
      "C:\\Users\\Utente\\AppData\\Local\\Temp\\ipykernel_16476\\756315752.py:5: DeprecationWarning: __array__ implementation doesn't accept a copy keyword, so passing copy=False failed. __array__ must implement 'dtype' and 'copy' keyword arguments.\n",
      "  canaliNA = np.array(sodio['Data_R;6']['Channel'].array())\n",
      "C:\\Users\\Utente\\AppData\\Local\\Temp\\ipykernel_16476\\756315752.py:7: DeprecationWarning: __array__ implementation doesn't accept a copy keyword, so passing copy=False failed. __array__ must implement 'dtype' and 'copy' keyword arguments.\n",
      "  energy_europio = np.array(europio['Data_R;6']['Energy'].array())\n",
      "C:\\Users\\Utente\\AppData\\Local\\Temp\\ipykernel_16476\\756315752.py:8: DeprecationWarning: __array__ implementation doesn't accept a copy keyword, so passing copy=False failed. __array__ must implement 'dtype' and 'copy' keyword arguments.\n",
      "  canaliEU = np.array(europio['Data_R;6']['Channel'].array())\n",
      "C:\\Users\\Utente\\AppData\\Local\\Temp\\ipykernel_16476\\756315752.py:10: DeprecationWarning: __array__ implementation doesn't accept a copy keyword, so passing copy=False failed. __array__ must implement 'dtype' and 'copy' keyword arguments.\n",
      "  energy_autunite = np.array(autunite['Data_R;4']['Energy'].array())\n",
      "C:\\Users\\Utente\\AppData\\Local\\Temp\\ipykernel_16476\\756315752.py:11: DeprecationWarning: __array__ implementation doesn't accept a copy keyword, so passing copy=False failed. __array__ must implement 'dtype' and 'copy' keyword arguments.\n",
      "  canaliAUT = np.array(autunite['Data_R;4']['Channel'].array())\n",
      "C:\\Users\\Utente\\AppData\\Local\\Temp\\ipykernel_16476\\756315752.py:13: DeprecationWarning: __array__ implementation doesn't accept a copy keyword, so passing copy=False failed. __array__ must implement 'dtype' and 'copy' keyword arguments.\n",
      "  energy_enea = np.array(enea['Data_R;4']['Energy'].array())\n",
      "C:\\Users\\Utente\\AppData\\Local\\Temp\\ipykernel_16476\\756315752.py:14: DeprecationWarning: __array__ implementation doesn't accept a copy keyword, so passing copy=False failed. __array__ must implement 'dtype' and 'copy' keyword arguments.\n",
      "  canaliENEA = np.array(enea['Data_R;4']['Channel'].array())\n",
      "C:\\Users\\Utente\\AppData\\Local\\Temp\\ipykernel_16476\\756315752.py:16: DeprecationWarning: __array__ implementation doesn't accept a copy keyword, so passing copy=False failed. __array__ must implement 'dtype' and 'copy' keyword arguments.\n",
      "  energy_porcini = np.array(porcini['Data_R;4']['Energy'].array())\n",
      "C:\\Users\\Utente\\AppData\\Local\\Temp\\ipykernel_16476\\756315752.py:17: DeprecationWarning: __array__ implementation doesn't accept a copy keyword, so passing copy=False failed. __array__ must implement 'dtype' and 'copy' keyword arguments.\n",
      "  canaliPORCINI = np.array(porcini['Data_R;4']['Channel'].array())\n",
      "C:\\Users\\Utente\\AppData\\Local\\Temp\\ipykernel_16476\\756315752.py:19: DeprecationWarning: __array__ implementation doesn't accept a copy keyword, so passing copy=False failed. __array__ must implement 'dtype' and 'copy' keyword arguments.\n",
      "  energy_cement = np.array(cement['Data_R;5']['Energy'].array())\n",
      "C:\\Users\\Utente\\AppData\\Local\\Temp\\ipykernel_16476\\756315752.py:20: DeprecationWarning: __array__ implementation doesn't accept a copy keyword, so passing copy=False failed. __array__ must implement 'dtype' and 'copy' keyword arguments.\n",
      "  canaliCEMENTO = np.array(cement['Data_R;5']['Channel'].array())\n",
      "C:\\Users\\Utente\\AppData\\Local\\Temp\\ipykernel_16476\\756315752.py:22: DeprecationWarning: __array__ implementation doesn't accept a copy keyword, so passing copy=False failed. __array__ must implement 'dtype' and 'copy' keyword arguments.\n",
      "  energy_potassio = np.array(potassio['Data_R;4']['Energy'].array())\n",
      "C:\\Users\\Utente\\AppData\\Local\\Temp\\ipykernel_16476\\756315752.py:23: DeprecationWarning: __array__ implementation doesn't accept a copy keyword, so passing copy=False failed. __array__ must implement 'dtype' and 'copy' keyword arguments.\n",
      "  canaliPOTASSIO = np.array(potassio['Data_R;4']['Channel'].array())\n",
      "C:\\Users\\Utente\\AppData\\Local\\Temp\\ipykernel_16476\\756315752.py:25: DeprecationWarning: __array__ implementation doesn't accept a copy keyword, so passing copy=False failed. __array__ must implement 'dtype' and 'copy' keyword arguments.\n",
      "  energy_zirconio = np.array(zirconio['Data_R;5']['Energy'].array())\n",
      "C:\\Users\\Utente\\AppData\\Local\\Temp\\ipykernel_16476\\756315752.py:26: DeprecationWarning: __array__ implementation doesn't accept a copy keyword, so passing copy=False failed. __array__ must implement 'dtype' and 'copy' keyword arguments.\n",
      "  canaliZIRCONIO = np.array(zirconio['Data_R;5']['Channel'].array())\n",
      "C:\\Users\\Utente\\AppData\\Local\\Temp\\ipykernel_16476\\756315752.py:28: DeprecationWarning: __array__ implementation doesn't accept a copy keyword, so passing copy=False failed. __array__ must implement 'dtype' and 'copy' keyword arguments.\n",
      "  fondo2giorno = np.array(back2['Data_R;4']['Energy'].array())\n",
      "C:\\Users\\Utente\\AppData\\Local\\Temp\\ipykernel_16476\\756315752.py:29: DeprecationWarning: __array__ implementation doesn't accept a copy keyword, so passing copy=False failed. __array__ must implement 'dtype' and 'copy' keyword arguments.\n",
      "  canaliback2 = np.array(back2['Data_R;4']['Channel'].array())\n",
      "C:\\Users\\Utente\\AppData\\Local\\Temp\\ipykernel_16476\\756315752.py:31: DeprecationWarning: __array__ implementation doesn't accept a copy keyword, so passing copy=False failed. __array__ must implement 'dtype' and 'copy' keyword arguments.\n",
      "  fondo3giorno = np.array(back3['Data_R;5']['Energy'].array())\n",
      "C:\\Users\\Utente\\AppData\\Local\\Temp\\ipykernel_16476\\756315752.py:32: DeprecationWarning: __array__ implementation doesn't accept a copy keyword, so passing copy=False failed. __array__ must implement 'dtype' and 'copy' keyword arguments.\n",
      "  canaliback3 = np.array(back3['Data_R;5']['Channel'].array())\n",
      "C:\\Users\\Utente\\AppData\\Local\\Temp\\ipykernel_16476\\756315752.py:34: DeprecationWarning: __array__ implementation doesn't accept a copy keyword, so passing copy=False failed. __array__ must implement 'dtype' and 'copy' keyword arguments.\n",
      "  energy_exposed = np.array(exposed['Data_R;9']['Energy'].array())\n",
      "C:\\Users\\Utente\\AppData\\Local\\Temp\\ipykernel_16476\\756315752.py:35: DeprecationWarning: __array__ implementation doesn't accept a copy keyword, so passing copy=False failed. __array__ must implement 'dtype' and 'copy' keyword arguments.\n",
      "  canaliexp = np.array(exposed['Data_R;9']['Channel'].array())\n",
      "C:\\Users\\Utente\\AppData\\Local\\Temp\\ipykernel_16476\\756315752.py:37: DeprecationWarning: __array__ implementation doesn't accept a copy keyword, so passing copy=False failed. __array__ must implement 'dtype' and 'copy' keyword arguments.\n",
      "  energy_unexposed = np.array(unexposed['Data_R;9']['Energy'].array())\n",
      "C:\\Users\\Utente\\AppData\\Local\\Temp\\ipykernel_16476\\756315752.py:38: DeprecationWarning: __array__ implementation doesn't accept a copy keyword, so passing copy=False failed. __array__ must implement 'dtype' and 'copy' keyword arguments.\n",
      "  canaliunexp = np.array(unexposed['Data_R;9']['Channel'].array())\n",
      "C:\\Users\\Utente\\AppData\\Local\\Temp\\ipykernel_16476\\756315752.py:40: DeprecationWarning: __array__ implementation doesn't accept a copy keyword, so passing copy=False failed. __array__ must implement 'dtype' and 'copy' keyword arguments.\n",
      "  energy_calibrated = np.array(calibrated['Data_R;9']['Energy'].array())\n",
      "C:\\Users\\Utente\\AppData\\Local\\Temp\\ipykernel_16476\\756315752.py:41: DeprecationWarning: __array__ implementation doesn't accept a copy keyword, so passing copy=False failed. __array__ must implement 'dtype' and 'copy' keyword arguments.\n",
      "  canalical = np.array(calibrated['Data_R;9']['Channel'].array())\n"
     ]
    }
   ],
   "source": [
    "energy_americio = np.array(americio['Data_R;3']['Energy'].array())\n",
    "canaliAM = np.array(americio['Data_R;3']['Channel'].array())\n",
    "\n",
    "energy_sodio = np.array(sodio['Data_R;6']['Energy'].array())\n",
    "canaliNA = np.array(sodio['Data_R;6']['Channel'].array())\n",
    "\n",
    "energy_europio = np.array(europio['Data_R;6']['Energy'].array())\n",
    "canaliEU = np.array(europio['Data_R;6']['Channel'].array())\n",
    "\n",
    "energy_autunite = np.array(autunite['Data_R;4']['Energy'].array())\n",
    "canaliAUT = np.array(autunite['Data_R;4']['Channel'].array())\n",
    "\n",
    "energy_enea = np.array(enea['Data_R;4']['Energy'].array())\n",
    "canaliENEA = np.array(enea['Data_R;4']['Channel'].array())\n",
    "\n",
    "energy_porcini = np.array(porcini['Data_R;4']['Energy'].array())\n",
    "canaliPORCINI = np.array(porcini['Data_R;4']['Channel'].array())\n",
    "\n",
    "energy_cement = np.array(cement['Data_R;5']['Energy'].array())\n",
    "canaliCEMENTO = np.array(cement['Data_R;5']['Channel'].array())\n",
    "\n",
    "energy_potassio = np.array(potassio['Data_R;4']['Energy'].array())\n",
    "canaliPOTASSIO = np.array(potassio['Data_R;4']['Channel'].array())\n",
    "\n",
    "energy_zirconio = np.array(zirconio['Data_R;5']['Energy'].array())\n",
    "canaliZIRCONIO = np.array(zirconio['Data_R;5']['Channel'].array())\n",
    "\n",
    "fondo2giorno = np.array(back2['Data_R;4']['Energy'].array())\n",
    "canaliback2 = np.array(back2['Data_R;4']['Channel'].array())\n",
    "\n",
    "fondo3giorno = np.array(back3['Data_R;5']['Energy'].array())\n",
    "canaliback3 = np.array(back3['Data_R;5']['Channel'].array())\n",
    "\n",
    "energy_exposed = np.array(exposed['Data_R;9']['Energy'].array())\n",
    "canaliexp = np.array(exposed['Data_R;9']['Channel'].array())\n",
    "\n",
    "energy_unexposed = np.array(unexposed['Data_R;9']['Energy'].array())\n",
    "canaliunexp = np.array(unexposed['Data_R;9']['Channel'].array())\n",
    "\n",
    "energy_calibrated = np.array(calibrated['Data_R;9']['Energy'].array())\n",
    "canalical = np.array(calibrated['Data_R;9']['Channel'].array())"
   ]
  },
  {
   "cell_type": "code",
   "execution_count": 4,
   "metadata": {},
   "outputs": [],
   "source": [
    "# #CH0 è IODURO DI SODIO e CH1 è HPGE\n",
    "# americio_data = np.array([energy_americio[canaliAM == 0], energy_americio[canaliAM == 1]])\n",
    "# sodio_data = np.array([energy_sodio[canaliNA == 0], energy_sodio[canaliNA == 1]])\n",
    "# europio_data = np.array([energy_europio[canaliEU == 0], energy_europio[canaliEU == 1]])\n",
    "\n",
    "# autunite_data = np.array([energy_autunite[canaliAUT == 0], energy_autunite[canaliAUT == 1]])\n",
    "# enea_data = np.array([energy_enea[canaliENEA == 0], energy_enea[canaliENEA == 1]])\n",
    "# porcini_data = np.array([energy_porcini[canaliPORCINI == 0], energy_porcini[canaliPORCINI == 1]])\n",
    "# cemento_data = np.array([energy_cement[canaliCEMENTO == 0], energy_cement[canaliCEMENTO == 1]])\n",
    "# potassio_data = np.array([energy_potassio[canaliPOTASSIO == 0], energy_potassio[canaliPOTASSIO == 1]])\n",
    "# zirconio_data = np.array([energy_zirconio[canaliZIRCONIO == 0], energy_zirconio[canaliZIRCONIO == 1]])\n",
    "\n",
    "# fondo2_data = np.array([fondo2giorno[canaliback2 == 0], fondo2giorno[canaliback2 == 1]])\n",
    "# fondo3_data = np.array([fondo3giorno[canaliback3 == 0], fondo3giorno[canaliback3 == 1]])\n",
    "\n",
    "# exposed_data = np.array([energy_exposed[canaliexp == 0], energy_exposed[canaliexp == 1]])\n",
    "# unexposed_data = np.array([energy_unexposed[canaliunexp == 0], energy_unexposed[canaliunexp == 1]])\n",
    "# calibrated_data = np.array([energy_calibrated[canalical == 0], energy_calibrated[canalical == 1]])"
   ]
  },
  {
   "cell_type": "code",
   "execution_count": 5,
   "metadata": {},
   "outputs": [],
   "source": [
    "# Separa i dati in due array distinti per ogni canale (0 e 1)\n",
    "americio_ch0 = energy_americio[canaliAM == 0]\n",
    "americio_ch1 = energy_americio[canaliAM == 1]\n",
    "\n",
    "sodio_ch0 = energy_sodio[canaliNA == 0]\n",
    "sodio_ch1 = energy_sodio[canaliNA == 1]\n",
    "\n",
    "europio_ch0 = energy_europio[canaliEU == 0]\n",
    "europio_ch1 = energy_europio[canaliEU == 1]\n",
    "\n",
    "autunite_ch0 = energy_autunite[canaliAUT == 0]\n",
    "autunite_ch1 = energy_autunite[canaliAUT == 1]\n",
    "\n",
    "enea_ch0 = energy_enea[canaliENEA == 0]\n",
    "enea_ch1 = energy_enea[canaliENEA == 1]\n",
    "\n",
    "porcini_ch0 = energy_porcini[canaliPORCINI == 0]\n",
    "porcini_ch1 = energy_porcini[canaliPORCINI == 1]\n",
    "\n",
    "cemento_ch0 = energy_cement[canaliCEMENTO == 0]\n",
    "cemento_ch1 = energy_cement[canaliCEMENTO == 1]\n",
    "\n",
    "potassio_ch0 = energy_potassio[canaliPOTASSIO == 0]\n",
    "potassio_ch1 = energy_potassio[canaliPOTASSIO == 1]\n",
    "\n",
    "zirconio_ch0 = energy_zirconio[canaliZIRCONIO == 0]\n",
    "zirconio_ch1 = energy_zirconio[canaliZIRCONIO == 1]\n",
    "\n",
    "fondo2_ch0 = fondo2giorno[canaliback2 == 0]\n",
    "fondo2_ch1 = fondo2giorno[canaliback2 == 1]\n",
    "\n",
    "fondo3_ch0 = fondo3giorno[canaliback3 == 0]\n",
    "fondo3_ch1 = fondo3giorno[canaliback3 == 1]\n",
    "\n",
    "exposed_ch0 = energy_exposed[canaliexp == 0]\n",
    "exposed_ch1 = energy_exposed[canaliexp == 1]\n",
    "\n",
    "unexposed_ch0 = energy_unexposed[canaliunexp == 0]\n",
    "unexposed_ch1 = energy_unexposed[canaliunexp == 1]\n",
    "\n",
    "calibrated_ch0 = energy_calibrated[canalical == 0]\n",
    "calibrated_ch1 = energy_calibrated[canalical == 1]"
   ]
  },
  {
   "cell_type": "markdown",
   "metadata": {},
   "source": [
    "## ENERGY CALIBRATION"
   ]
  },
  {
   "cell_type": "code",
   "execution_count": 6,
   "metadata": {},
   "outputs": [],
   "source": [
    "# sodio1_1peak = ben.normal(sodio_ch1, 'ADC', 'counts', 'First peak of $^{22}$Na - uncalibrated', 2840, 2900, sodio_ch1.max(), n=2)"
   ]
  },
  {
   "cell_type": "code",
   "execution_count": null,
   "metadata": {},
   "outputs": [],
   "source": []
  },
  {
   "cell_type": "markdown",
   "metadata": {},
   "source": [
    "## efficienza HPGe"
   ]
  },
  {
   "cell_type": "code",
   "execution_count": 7,
   "metadata": {},
   "outputs": [
    {
     "name": "stderr",
     "output_type": "stream",
     "text": [
      "C:\\Users\\Utente\\AppData\\Local\\Temp\\ipykernel_16476\\3061995950.py:2: DeprecationWarning: __array__ implementation doesn't accept a copy keyword, so passing copy=False failed. __array__ must implement 'dtype' and 'copy' keyword arguments.\n",
      "  energy_europio20min =np.array(europio20min['Data_R;6']['Energy'].array())\n"
     ]
    }
   ],
   "source": [
    "europio20min = uproot.open('group23\\\\20min-europio-gr23\\\\RAW\\\\DataR_20min-europio-gr23.root')\n",
    "energy_europio20min =np.array(europio20min['Data_R;6']['Energy'].array())"
   ]
  },
  {
   "cell_type": "code",
   "execution_count": 8,
   "metadata": {},
   "outputs": [
    {
     "data": {
      "image/png": "[encoded data removed]",
      "text/plain": [
       "<Figure size 640x480 with 1 Axes>"
      ]
     },
     "metadata": {},
     "output_type": "display_data"
    }
   ],
   "source": [
    "plt.hist(energy_europio20min, bins=energy_europio20min.max(), edgecolor='darkblue', histtype='step', lw=1, label=\"$^{152}$Eu\")\n",
    "plt.title('Uncalibrated spectrum')\n",
    "plt.legend(loc='upper right')\n",
    "plt.xlabel(\"ADC\")\n",
    "plt.ylabel(\"counts\")\n",
    "plt.xlim(0, 4500)\n",
    "plt.ylim(1, 50000)\n",
    "plt.yscale(\"log\")\n",
    "plt.grid(True, alpha=0.5)\n",
    "plt.show()"
   ]
  }
 ],
 "metadata": {
  "kernelspec": {
   "display_name": "Python 3",
   "language": "python",
   "name": "python3"
  },
  "language_info": {
   "codemirror_mode": {
    "name": "ipython",
    "version": 3
   },
   "file_extension": ".py",
   "mimetype": "text/x-python",
   "name": "python",
   "nbconvert_exporter": "python",
   "pygments_lexer": "ipython3",
   "version": "3.13.0"
  }
 },
 "nbformat": 4,
 "nbformat_minor": 2
}
