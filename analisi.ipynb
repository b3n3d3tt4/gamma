{
 "cells": [
  {
   "cell_type": "code",
   "execution_count": 3,
   "metadata": {},
   "outputs": [
    {
     "name": "stderr",
     "output_type": "stream",
     "text": [
      "c:\\Users\\anton\\OneDrive\\Desktop\\Gamma_Git\\bened.py:248: SyntaxWarning: invalid escape sequence '\\c'\n",
      "  print(f'Chi-squared $\\chi^2$ = {chi_squared}')\n",
      "c:\\Users\\anton\\OneDrive\\Desktop\\Gamma_Git\\bened.py:249: SyntaxWarning: invalid escape sequence '\\c'\n",
      "  print(f'Reduced chi-squared $\\chi^2_r$ = {chi_squared_reduced}')\n",
      "c:\\Users\\anton\\OneDrive\\Desktop\\Gamma_Git\\bened.py:342: SyntaxWarning: invalid escape sequence '\\c'\n",
      "  print(f'Chi-squared $\\chi^2$ = {chi_squared}')\n",
      "c:\\Users\\anton\\OneDrive\\Desktop\\Gamma_Git\\bened.py:343: SyntaxWarning: invalid escape sequence '\\c'\n",
      "  print(f'Reduced chi-squared $\\chi^2_r$ = {chi_squared_reduced}')\n"
     ]
    }
   ],
   "source": [
    "import uproot \n",
    "import numpy as np\n",
    "import matplotlib.pyplot as plt\n",
    "import statistics as stat\n",
    "from iminuit import Minuit\n",
    "import matplotlib.cm as cm\n",
    "from scipy.optimize import curve_fit\n",
    "import bened as ben"
   ]
  },
  {
   "cell_type": "markdown",
   "metadata": {},
   "source": [
    "# GAMMA XDVR"
   ]
  },
  {
   "cell_type": "markdown",
   "metadata": {},
   "source": [
    "## calibration"
   ]
  },
  {
   "cell_type": "code",
   "execution_count": 69,
   "metadata": {},
   "outputs": [],
   "source": [
    "#giorno2\n",
    "americio = uproot.open('group23\\\\10min-americio-gr23\\\\RAW\\\\DataR_10min-americio-gr23.root')\n",
    "sodio = uproot.open('group23\\\\10min-sodio-gr23-SOGLIA\\\\RAW\\\\DataR_10min-sodio-gr23-SOGLIA.root')\n",
    "europio = uproot.open('group23\\\\20min-europio-gr23\\\\RAW\\\\DataR_20min-europio-gr23.root')\n",
    "back2 = uproot.open('group23\\\\30min-background-gr23\\\\RAW\\\\DataR_30min-background-gr23.root')\n",
    "#giorno3\n",
    "autunite = uproot.open('group23\\\\15min-autunite-gr23\\\\RAW\\\\DataR_15min-autunite-gr23.root')\n",
    "enea = uproot.open('group23\\\\15min-Enea-water-gr23\\\\RAW\\\\DataR_15min-Enea-water-gr23.root')\n",
    "porcini = uproot.open('group23\\\\15min-porcini-mushrooms-gr23\\\\RAW\\\\DataR_15min-porcini-mushrooms-gr23.root')\n",
    "cement = uproot.open('group23\\\\15min-portland-cement-gr23\\\\RAW\\\\DataR_15min-portland-cement-gr23.root')\n",
    "potassio = uproot.open('group23\\\\15min-potassio-gr23\\\\RAW\\\\DataR_15min-potassio-gr23.root')\n",
    "zirconio = uproot.open('group23\\\\15min-zirconium-oxide-gr23\\\\RAW\\\\DataR_15min-zirconium-oxide-gr23.root')\n",
    "back3 = uproot.open('group23\\\\15min-background-gr23-giorno3\\\\RAW\\\\DataR_15min-background-gr23.root')\n",
    "#radon\n",
    "exposed = uproot.open('group23\\\\30min-exposed-radon-gr23\\\\RAW\\\\DataR_30min-exposed-radon-gr23.root')\n",
    "unexposed =uproot.open('group23\\\\30min-non-exposed-radon-gr23\\\\RAW\\\\DataR_30min-non-exposed-radon-gr23.root')\n",
    "calibrated = uproot.open('group23\\\\30min-calibrated-radon-gr23\\\\RAW\\\\DataR_30min-calibrated-radon-gr23.root')"
   ]
  },
  {
   "cell_type": "code",
   "execution_count": null,
   "metadata": {},
   "outputs": [],
   "source": [
    "energy_americio = np.array(americio['Data_R;3']['Energy'].array())\n",
    "canaliAM = np.array(americio['Data_R;3']['Channel'].array())\n",
    "\n",
    "energy_sodio = np.array(sodio['Data_R;6']['Energy'].array())\n",
    "canaliNA = np.array(sodio['Data_R;6']['Channel'].array())\n",
    "\n",
    "energy_europio = np.array(europio['Data_R;6']['Energy'].array())\n",
    "canaliEU = np.array(europio['Data_R;6']['Channel'].array())\n",
    "\n",
    "energy_autunite = np.array(autunite['Data_R;4']['Energy'].array())\n",
    "canaliAUT = np.array(autunite['Data_R;4']['Channel'].array())\n",
    "\n",
    "energy_enea = np.array(enea['Data_R;4']['Energy'].array())\n",
    "canaliENEA = np.array(enea['Data_R;4']['Channel'].array())\n",
    "\n",
    "energy_porcini = np.array(porcini['Data_R;4']['Energy'].array())\n",
    "canaliPORCINI = np.array(porcini['Data_R;4']['Channel'].array())\n",
    "\n",
    "energy_cement = np.array(cement['Data_R;5']['Energy'].array())\n",
    "canaliCEMENTO = np.array(cement['Data_R;4']['Channel'].array())\n",
    "\n",
    "energy_potassio = np.array(potassio['Data_R;4']['Energy'].array())\n",
    "canaliPOTASSIO = np.array(potassio['Data_R;4']['Channel'].array())\n",
    "\n",
    "energy_zirconio = np.array(zirconio['Data_R;5']['Energy'].array())\n",
    "canaliZIRCONIO = np.array(zirconio['Data_R;5']['Channel'].array())\n",
    "\n",
    "fondo2giorno = np.array(back2['Data_R;4']['Energy'].array())\n",
    "canaliback2 = np.array(back2['Data_R;4']['Channel'].array())\n",
    "\n",
    "fondo3giorno = np.array(back3['Data_R;5']['Energy'].array())\n",
    "canaliback3 = np.array(back3['Data_R;5']['Channel'].array())\n",
    "\n",
    "energy_exposed = np.array(exposed['Data_R;9']['Energy'].array())\n",
    "canaliexp = np.array(exposed['Data_R;9']['Channel'].array())\n",
    "\n",
    "energy_unexposed = np.array(unexposed['Data_R;9']['Energy'].array())\n",
    "canaliunexp = np.array(unexposed['Data_R;9']['Channel'].array())\n",
    "\n",
    "energy_calibrated = np.array(calibrated['Data_R;9']['Energy'].array())\n",
    "canalical = np.array(calibrated['Data_R;9']['Channel'].array())"
   ]
  },
  {
   "cell_type": "code",
   "execution_count": null,
   "metadata": {},
   "outputs": [],
   "source": [
    "#CH0 è IODURO DI SODIO e CH1 è HPGE\n",
    "americio_data = np.array([energy_americio[canaliAM == 0], energy_americio[canaliAM == 1]])\n",
    "sodio_data = np.array([energy_sodio[canaliNA == 0], energy_sodio[canaliNA == 1]])\n",
    "europio_data = np.array([energy_europio[canaliEU == 0], energy_europio[canaliEU == 1]])\n",
    "\n",
    "autunite_data = np.array(energy_autunite[canaliAUT == 0], energy_autunite[canaliAUT == 1]])\n",
    "enea_data = np.array([energy_enea[canaliENEA == 0], energy_enea[canaliENEA == 1]])\n",
    "porcini_data = np.array([energy_porcini[canaliPORCINI == 0], energy_porcini[canaliPORCINI == 1]])\n",
    "cemento_data = np.array([energy_cement[canaliCEMENTO == 0], energy_cement[canaliCEMENTO == 1]])ù\n",
    "potassio_data = np..array([])\n"
   ]
  },
  {
   "cell_type": "code",
   "execution_count": 8,
   "metadata": {},
   "outputs": [
    {
     "ename": "NameError",
     "evalue": "name 'energy_sodio' is not defined",
     "output_type": "error",
     "traceback": [
      "\u001b[1;31m---------------------------------------------------------------------------\u001b[0m",
      "\u001b[1;31mNameError\u001b[0m                                 Traceback (most recent call last)",
      "Cell \u001b[1;32mIn[8], line 1\u001b[0m\n\u001b[1;32m----> 1\u001b[0m sodio_1peak \u001b[38;5;241m=\u001b[39m ben\u001b[38;5;241m.\u001b[39mnormal(\u001b[43menergy_sodio\u001b[49m, \u001b[38;5;124m'\u001b[39m\u001b[38;5;124mADC\u001b[39m\u001b[38;5;124m'\u001b[39m, \u001b[38;5;124m'\u001b[39m\u001b[38;5;124mcounts\u001b[39m\u001b[38;5;124m'\u001b[39m, \u001b[38;5;124m'\u001b[39m\u001b[38;5;124mFirst peak of $^\u001b[39m\u001b[38;5;132;01m{22}\u001b[39;00m\u001b[38;5;124m$Na - uncalibrated\u001b[39m\u001b[38;5;124m'\u001b[39m, \u001b[38;5;241m1100\u001b[39m, \u001b[38;5;241m1200\u001b[39m, energy_sodio\u001b[38;5;241m.\u001b[39mmax(), n\u001b[38;5;241m=\u001b[39m\u001b[38;5;241m2\u001b[39m)\n",
      "\u001b[1;31mNameError\u001b[0m: name 'energy_sodio' is not defined"
     ]
    }
   ],
   "source": [
    "sodio_1peak = ben.normal(energy_sodio, 'ADC', 'counts', 'First peak of $^{22}$Na - uncalibrated', 1100, 1200, energy_sodio.max(), n=2)"
   ]
  },
  {
   "cell_type": "code",
   "execution_count": null,
   "metadata": {},
   "outputs": [
    {
     "data": {
      "image/png": "[encoded data removed]",
      "text/plain": [
       "<Figure size 640x480 with 1 Axes>"
      ]
     },
     "metadata": {},
     "output_type": "display_data"
    }
   ],
   "source": [
    "bin_americio, americio_fondo = ben.background(energy_americio, fondo2giorno, None, 'ADC', 'counts', 'Background subtracted - uncalibrated $^{241}$Am')"
   ]
  },
  {
   "cell_type": "markdown",
   "metadata": {},
   "source": [
    "## efficienza HPGe"
   ]
  },
  {
   "cell_type": "code",
   "execution_count": null,
   "metadata": {},
   "outputs": [
    {
     "name": "stderr",
     "output_type": "stream",
     "text": [
      "C:\\Users\\Utente\\AppData\\Local\\Temp\\ipykernel_9484\\3061995950.py:2: DeprecationWarning: __array__ implementation doesn't accept a copy keyword, so passing copy=False failed. __array__ must implement 'dtype' and 'copy' keyword arguments.\n",
      "  energy_europio20min =np.array(europio20min['Data_R;6']['Energy'].array())\n"
     ]
    }
   ],
   "source": [
    "europio20min = uproot.open('group23\\\\20min-europio-gr23\\\\RAW\\\\DataR_20min-europio-gr23.root')\n",
    "energy_europio20min =np.array(europio20min['Data_R;6']['Energy'].array())"
   ]
  },
  {
   "cell_type": "code",
   "execution_count": null,
   "metadata": {},
   "outputs": [],
   "source": [
    "plt.hist(energy_europio20min, bins=energy_europio20min.max(), edgecolor='darkblue', histtype='step', lw=1, label=\"$^{152}$Eu\")\n",
    "plt.title('Uncalibrated spectrum')\n",
    "plt.legend(loc='upper right')\n",
    "plt.xlabel(\"ADC\")\n",
    "plt.ylabel(\"counts\")\n",
    "plt.xlim(0, 4500)\n",
    "plt.ylim(1, 50000)\n",
    "plt.yscale(\"log\")\n",
    "plt.grid(True, alpha=0.5)\n",
    "plt.show()"
   ]
  },
  {
   "cell_type": "code",
   "execution_count": null,
   "metadata": {},
   "outputs": [
    {
     "name": "stdout",
     "output_type": "stream",
     "text": [
      "3\n"
     ]
    }
   ],
   "source": [
    "k = 3\n",
    "print(k)"
   ]
  }
 ],
 "metadata": {
  "kernelspec": {
   "display_name": "Python 3",
   "language": "python",
   "name": "python3"
  },
  "language_info": {
   "codemirror_mode": {
    "name": "ipython",
    "version": 3
   },
   "file_extension": ".py",
   "mimetype": "text/x-python",
   "name": "python",
   "nbconvert_exporter": "python",
   "pygments_lexer": "ipython3",
   "version": "3.12.5"
  }
 },
 "nbformat": 4,
 "nbformat_minor": 2
}
